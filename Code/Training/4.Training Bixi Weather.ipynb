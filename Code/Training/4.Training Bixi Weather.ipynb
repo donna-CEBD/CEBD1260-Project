{
 "cells": [
  {
   "cell_type": "code",
   "execution_count": 1,
   "metadata": {},
   "outputs": [],
   "source": [
    "import numpy as np\n",
    "import pandas as pd\n",
    "from sklearn import linear_model\n",
    "from sklearn.externals import joblib"
   ]
  },
  {
   "cell_type": "code",
   "execution_count": 2,
   "metadata": {},
   "outputs": [],
   "source": [
    "df = pd.read_csv('../../Data/Processed/bixiWeather.csv',low_memory=False)"
   ]
  },
  {
   "cell_type": "code",
   "execution_count": 3,
   "metadata": {},
   "outputs": [
    {
     "data": {
      "text/plain": [
       "start_date             object\n",
       "weekday                 int64\n",
       "month                   int64\n",
       "hour                    int64\n",
       "num_week                int64\n",
       "start_station_code      int64\n",
       "end_date               object\n",
       "end_station_code      float64\n",
       "duration_min          float64\n",
       "is_member               int64\n",
       "datetime               object\n",
       "humidity              float64\n",
       "pressure              float64\n",
       "temp_celsius          float64\n",
       "description            object\n",
       "wind_speed            float64\n",
       "wind_direction        float64\n",
       "dtype: object"
      ]
     },
     "execution_count": 3,
     "metadata": {},
     "output_type": "execute_result"
    }
   ],
   "source": [
    "df.dtypes"
   ]
  },
  {
   "cell_type": "code",
   "execution_count": 4,
   "metadata": {},
   "outputs": [],
   "source": [
    "df_bixi_model=df.drop(['start_date','start_station_code','end_date','end_station_code','duration_min','is_member','datetime'],axis=1)"
   ]
  },
  {
   "cell_type": "code",
   "execution_count": 5,
   "metadata": {},
   "outputs": [
    {
     "data": {
      "text/plain": [
       "weekday             int64\n",
       "month               int64\n",
       "hour                int64\n",
       "num_week            int64\n",
       "humidity          float64\n",
       "pressure          float64\n",
       "temp_celsius      float64\n",
       "description        object\n",
       "wind_speed        float64\n",
       "wind_direction    float64\n",
       "dtype: object"
      ]
     },
     "execution_count": 5,
     "metadata": {},
     "output_type": "execute_result"
    }
   ],
   "source": [
    "\n",
    "df_bixi_model.dtypes"
   ]
  },
  {
   "cell_type": "code",
   "execution_count": 6,
   "metadata": {},
   "outputs": [],
   "source": [
    "df_group = df_bixi_model.groupby(['num_week','weekday', 'hour']).agg('first')\n",
    "df_group['num_trips']=df_bixi_model.groupby(['num_week','weekday', 'hour']).count()['description']\n",
    "df_group=df_group.reset_index(level=[0,1,2])\n",
    "\n",
    "df_group.head()\n",
    "df = df_group\n"
   ]
  },
  {
   "cell_type": "code",
   "execution_count": 7,
   "metadata": {},
   "outputs": [
    {
     "data": {
      "text/html": [
       "<div>\n",
       "<style scoped>\n",
       "    .dataframe tbody tr th:only-of-type {\n",
       "        vertical-align: middle;\n",
       "    }\n",
       "\n",
       "    .dataframe tbody tr th {\n",
       "        vertical-align: top;\n",
       "    }\n",
       "\n",
       "    .dataframe thead th {\n",
       "        text-align: right;\n",
       "    }\n",
       "</style>\n",
       "<table border=\"1\" class=\"dataframe\">\n",
       "  <thead>\n",
       "    <tr style=\"text-align: right;\">\n",
       "      <th></th>\n",
       "      <th>num_week</th>\n",
       "      <th>weekday</th>\n",
       "      <th>hour</th>\n",
       "      <th>month</th>\n",
       "      <th>humidity</th>\n",
       "      <th>pressure</th>\n",
       "      <th>temp_celsius</th>\n",
       "      <th>description</th>\n",
       "      <th>wind_speed</th>\n",
       "      <th>wind_direction</th>\n",
       "      <th>num_trips</th>\n",
       "    </tr>\n",
       "  </thead>\n",
       "  <tbody>\n",
       "    <tr>\n",
       "      <th>0</th>\n",
       "      <td>15</td>\n",
       "      <td>5</td>\n",
       "      <td>0</td>\n",
       "      <td>4</td>\n",
       "      <td>22.0</td>\n",
       "      <td>1027.0</td>\n",
       "      <td>13.00</td>\n",
       "      <td>few clouds</td>\n",
       "      <td>4.0</td>\n",
       "      <td>260.0</td>\n",
       "      <td>144</td>\n",
       "    </tr>\n",
       "    <tr>\n",
       "      <th>1</th>\n",
       "      <td>15</td>\n",
       "      <td>5</td>\n",
       "      <td>1</td>\n",
       "      <td>4</td>\n",
       "      <td>34.0</td>\n",
       "      <td>1027.0</td>\n",
       "      <td>10.67</td>\n",
       "      <td>few clouds</td>\n",
       "      <td>3.0</td>\n",
       "      <td>240.0</td>\n",
       "      <td>76</td>\n",
       "    </tr>\n",
       "    <tr>\n",
       "      <th>2</th>\n",
       "      <td>15</td>\n",
       "      <td>5</td>\n",
       "      <td>2</td>\n",
       "      <td>4</td>\n",
       "      <td>37.0</td>\n",
       "      <td>1027.0</td>\n",
       "      <td>10.00</td>\n",
       "      <td>few clouds</td>\n",
       "      <td>3.0</td>\n",
       "      <td>220.0</td>\n",
       "      <td>39</td>\n",
       "    </tr>\n",
       "    <tr>\n",
       "      <th>3</th>\n",
       "      <td>15</td>\n",
       "      <td>5</td>\n",
       "      <td>3</td>\n",
       "      <td>4</td>\n",
       "      <td>42.0</td>\n",
       "      <td>1027.0</td>\n",
       "      <td>8.30</td>\n",
       "      <td>few clouds</td>\n",
       "      <td>3.0</td>\n",
       "      <td>210.0</td>\n",
       "      <td>40</td>\n",
       "    </tr>\n",
       "    <tr>\n",
       "      <th>4</th>\n",
       "      <td>15</td>\n",
       "      <td>5</td>\n",
       "      <td>4</td>\n",
       "      <td>4</td>\n",
       "      <td>56.0</td>\n",
       "      <td>1027.0</td>\n",
       "      <td>6.00</td>\n",
       "      <td>few clouds</td>\n",
       "      <td>3.0</td>\n",
       "      <td>210.0</td>\n",
       "      <td>12</td>\n",
       "    </tr>\n",
       "    <tr>\n",
       "      <th>5</th>\n",
       "      <td>15</td>\n",
       "      <td>5</td>\n",
       "      <td>5</td>\n",
       "      <td>4</td>\n",
       "      <td>56.0</td>\n",
       "      <td>1027.0</td>\n",
       "      <td>6.00</td>\n",
       "      <td>few clouds</td>\n",
       "      <td>3.0</td>\n",
       "      <td>210.0</td>\n",
       "      <td>21</td>\n",
       "    </tr>\n",
       "    <tr>\n",
       "      <th>6</th>\n",
       "      <td>15</td>\n",
       "      <td>5</td>\n",
       "      <td>6</td>\n",
       "      <td>4</td>\n",
       "      <td>56.0</td>\n",
       "      <td>1026.0</td>\n",
       "      <td>6.33</td>\n",
       "      <td>few clouds</td>\n",
       "      <td>3.0</td>\n",
       "      <td>200.0</td>\n",
       "      <td>36</td>\n",
       "    </tr>\n",
       "    <tr>\n",
       "      <th>7</th>\n",
       "      <td>15</td>\n",
       "      <td>5</td>\n",
       "      <td>7</td>\n",
       "      <td>4</td>\n",
       "      <td>60.0</td>\n",
       "      <td>1026.0</td>\n",
       "      <td>5.00</td>\n",
       "      <td>few clouds</td>\n",
       "      <td>2.0</td>\n",
       "      <td>210.0</td>\n",
       "      <td>84</td>\n",
       "    </tr>\n",
       "    <tr>\n",
       "      <th>8</th>\n",
       "      <td>15</td>\n",
       "      <td>5</td>\n",
       "      <td>8</td>\n",
       "      <td>4</td>\n",
       "      <td>60.0</td>\n",
       "      <td>1026.0</td>\n",
       "      <td>4.32</td>\n",
       "      <td>scattered clouds</td>\n",
       "      <td>2.0</td>\n",
       "      <td>200.0</td>\n",
       "      <td>172</td>\n",
       "    </tr>\n",
       "    <tr>\n",
       "      <th>9</th>\n",
       "      <td>15</td>\n",
       "      <td>5</td>\n",
       "      <td>9</td>\n",
       "      <td>4</td>\n",
       "      <td>69.0</td>\n",
       "      <td>1025.0</td>\n",
       "      <td>3.35</td>\n",
       "      <td>few clouds</td>\n",
       "      <td>1.0</td>\n",
       "      <td>240.0</td>\n",
       "      <td>326</td>\n",
       "    </tr>\n",
       "  </tbody>\n",
       "</table>\n",
       "</div>"
      ],
      "text/plain": [
       "   num_week  weekday  hour  month  humidity  pressure  temp_celsius  \\\n",
       "0        15        5     0      4      22.0    1027.0         13.00   \n",
       "1        15        5     1      4      34.0    1027.0         10.67   \n",
       "2        15        5     2      4      37.0    1027.0         10.00   \n",
       "3        15        5     3      4      42.0    1027.0          8.30   \n",
       "4        15        5     4      4      56.0    1027.0          6.00   \n",
       "5        15        5     5      4      56.0    1027.0          6.00   \n",
       "6        15        5     6      4      56.0    1026.0          6.33   \n",
       "7        15        5     7      4      60.0    1026.0          5.00   \n",
       "8        15        5     8      4      60.0    1026.0          4.32   \n",
       "9        15        5     9      4      69.0    1025.0          3.35   \n",
       "\n",
       "        description  wind_speed  wind_direction  num_trips  \n",
       "0        few clouds         4.0           260.0        144  \n",
       "1        few clouds         3.0           240.0         76  \n",
       "2        few clouds         3.0           220.0         39  \n",
       "3        few clouds         3.0           210.0         40  \n",
       "4        few clouds         3.0           210.0         12  \n",
       "5        few clouds         3.0           210.0         21  \n",
       "6        few clouds         3.0           200.0         36  \n",
       "7        few clouds         2.0           210.0         84  \n",
       "8  scattered clouds         2.0           200.0        172  \n",
       "9        few clouds         1.0           240.0        326  "
      ]
     },
     "execution_count": 7,
     "metadata": {},
     "output_type": "execute_result"
    }
   ],
   "source": [
    "#df_bixi_model.head(60)\n",
    "\n",
    "df.head(10)"
   ]
  },
  {
   "cell_type": "code",
   "execution_count": 8,
   "metadata": {},
   "outputs": [
    {
     "name": "stdout",
     "output_type": "stream",
     "text": [
      "Coefficients [  9.8  -1.1  54.3  12.6  23.8   2.  -20.1]\n",
      "Interception -13128.5\n",
      "\n",
      "num_week 9.8\n",
      "weekday -1.1\n",
      "hour 54.3\n",
      "pressure 12.6\n",
      "temp_celsius 23.8\n",
      "humidity 2.0\n",
      "wind_speed -20.1\n"
     ]
    },
    {
     "data": {
      "text/plain": [
       "['../../Code/Model/linear_regression.pkl']"
      ]
     },
     "execution_count": 8,
     "metadata": {},
     "output_type": "execute_result"
    }
   ],
   "source": [
    "\n",
    "# Create linear regression object\n",
    "model = linear_model.LinearRegression()\n",
    "\n",
    "columns = ['num_week', 'weekday', 'hour', 'pressure', 'temp_celsius', 'humidity', 'wind_speed'] \n",
    "\n",
    "# Train the model using the training sets\n",
    "model.fit(df[columns],df['num_trips'])\n",
    "\n",
    "# Print the Coefficients\n",
    "print('Coefficients', np.round(model.coef_,1))\n",
    "print('Interception', round(model.intercept_,1))\n",
    "print('')\n",
    "for i, col in enumerate(columns):\n",
    "    print(col, round(model.coef_[i],1))\n",
    "\n",
    "joblib.dump(model, '../../Code/Model/linear_regression.pkl')\n"
   ]
  },
  {
   "cell_type": "code",
   "execution_count": null,
   "metadata": {},
   "outputs": [],
   "source": []
  }
 ],
 "metadata": {
  "kernelspec": {
   "display_name": "Python 3",
   "language": "python",
   "name": "python3"
  },
  "language_info": {
   "codemirror_mode": {
    "name": "ipython",
    "version": 3
   },
   "file_extension": ".py",
   "mimetype": "text/x-python",
   "name": "python",
   "nbconvert_exporter": "python",
   "pygments_lexer": "ipython3",
   "version": "3.6.4"
  }
 },
 "nbformat": 4,
 "nbformat_minor": 2
}
