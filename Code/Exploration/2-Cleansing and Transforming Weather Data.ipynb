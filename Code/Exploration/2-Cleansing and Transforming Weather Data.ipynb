{
 "cells": [
  {
   "cell_type": "markdown",
   "metadata": {},
   "source": [
    "# Cleansing & Transforming  \n",
    "Summary of steps:  \n",
    "\n",
    "-Merge weather attributes by city  \n",
    "-Convert datetime columns from 'object' type to 'datetime' type  \n",
    "-Add new column to identify the time of day (ie. AM1, AM2, PM1, PM2)  \n",
    "-Add new column to identify the compass direction of wind (ie. N, W, S, E, etc)  \n"
   ]
  },
  {
   "cell_type": "code",
   "execution_count": 1,
   "metadata": {},
   "outputs": [],
   "source": [
    "# import the library\n",
    "%matplotlib inline\n",
    "\n",
    "import pandas as pd\n",
    "import numpy as np\n",
    "import matplotlib.pyplot as plt\n",
    "import os"
   ]
  },
  {
   "cell_type": "markdown",
   "metadata": {},
   "source": [
    "# Load the Data"
   ]
  },
  {
   "cell_type": "code",
   "execution_count": 2,
   "metadata": {},
   "outputs": [],
   "source": [
    "df_c = pd.read_csv('../../Data/Raw/city_attributes.csv')\n",
    "df_h = pd.read_csv('../../Data/Raw/humidity.csv')\n",
    "df_p = pd.read_csv('../../Data/Raw/pressure.csv')\n",
    "df_t = pd.read_csv('../../Data/Raw/temperature.csv')\n",
    "df_d = pd.read_csv('../../Data/Raw/weather_description.csv')\n",
    "df_wd = pd.read_csv('../../Data/Raw/wind_direction.csv')\n",
    "df_ws = pd.read_csv('../../Data/Raw/wind_speed.csv')"
   ]
  },
  {
   "cell_type": "markdown",
   "metadata": {},
   "source": [
    "# Procedures (not used)"
   ]
  },
  {
   "cell_type": "code",
   "execution_count": 3,
   "metadata": {},
   "outputs": [],
   "source": [
    "def timeday(df):\n",
    "    result = []\n",
    "    for row in df:\n",
    "        if row <= 5:\n",
    "            #early morning 0:00 to 5:59\n",
    "            result.append('AM1')  \n",
    "        elif row <= 11:\n",
    "            #morning 6:00 to 11:59\n",
    "            result.append('AM2')\n",
    "        elif row <= 17:\n",
    "            #afternoon 12:00 to 17:59\n",
    "            result.append('PM1')\n",
    "        elif row <= 23:\n",
    "            #evening 18:00 to 11:59\n",
    "            result.append('PM2')\n",
    "        else:\n",
    "            result.append('')\n",
    "    return result"
   ]
  },
  {
   "cell_type": "code",
   "execution_count": 4,
   "metadata": {},
   "outputs": [],
   "source": [
    "arr = ['N', 'NNE', 'NE', 'ENE', 'E', 'ESE', 'SE', 'SSE', 'S', 'SSW', 'SW', 'WSW', 'W', 'WNW', 'NW', 'NNW', 'N']\n",
    "def wind_dir(df):\n",
    "    result = []\n",
    "    for row in df:\n",
    "        #print(row)\n",
    "        if row >= 0:\n",
    "            k=(row%360)/22.5\n",
    "            result.append(arr[round(k)])\n",
    "        else:\n",
    "            result.append('')\n",
    "    return result\n"
   ]
  },
  {
   "cell_type": "markdown",
   "metadata": {},
   "source": [
    "# Transform the weather data by city"
   ]
  },
  {
   "cell_type": "code",
   "execution_count": 5,
   "metadata": {},
   "outputs": [],
   "source": [
    "for row in df_c['City']:\n",
    "    #get humidity attributes \n",
    "    data_h = df_h[['datetime',row]]\n",
    "    data_h = data_h.rename(columns={row:'humidity'})\n",
    "    \n",
    "    #get pressure attributes\n",
    "    data_p = df_p[['datetime',row]]\n",
    "    data_p = data_p.rename(columns={row:'pressure'})\n",
    "                           \n",
    "    #get temperature attributes\n",
    "    data_t = df_t[['datetime',row]]\n",
    "    data_t = data_t.rename(columns={row:'temperature'})\n",
    "    #data_t = data_t['temperature'] - 273.15\n",
    "        \n",
    "    #get weather description \n",
    "    data_d = df_d[['datetime',row]]\n",
    "    data_d = data_d.rename(columns={row:'description'})\n",
    "        \n",
    "    #get wind direction \n",
    "    data_wd = df_wd[['datetime',row]]\n",
    "    data_wd = data_wd.rename(columns={row:'wind_direction'})\n",
    "        \n",
    "    #get wind speed \n",
    "    data_ws = df_ws[['datetime',row]]\n",
    "    data_ws = data_ws.rename(columns={row:'wind_speed'})\n",
    "    \n",
    "    #merge all weather attributes onto one dataframe\n",
    "    df=pd.merge(data_h, data_p, on='datetime',how='outer')\n",
    "    df=pd.merge(df, data_t, on='datetime',how='outer')\n",
    "    df=pd.merge(df, data_d, on='datetime',how='outer')\n",
    "    df=pd.merge(df, data_ws, on='datetime',how='outer')\n",
    "    df=pd.merge(df, data_wd, on='datetime',how='outer')\n",
    "    \n",
    "    df.to_csv('../../Data/Processed/' + row + '.csv',index=False)"
   ]
  },
  {
   "cell_type": "markdown",
   "metadata": {},
   "source": [
    "# Cleanse the city weather data"
   ]
  },
  {
   "cell_type": "code",
   "execution_count": 6,
   "metadata": {},
   "outputs": [],
   "source": [
    "def num_missing(x):\n",
    "    return sum(x.isnull())"
   ]
  },
  {
   "cell_type": "code",
   "execution_count": 7,
   "metadata": {},
   "outputs": [
    {
     "name": "stdout",
     "output_type": "stream",
     "text": [
      "Vancouver\n",
      "Portland\n",
      "San Francisco\n",
      "Seattle\n",
      "Los Angeles\n",
      "San Diego\n",
      "Las Vegas\n",
      "Phoenix\n",
      "Albuquerque\n",
      "Denver\n",
      "San Antonio\n",
      "Dallas\n",
      "Houston\n",
      "Kansas City\n",
      "Minneapolis\n",
      "Saint Louis\n",
      "Chicago\n",
      "Nashville\n",
      "Indianapolis\n",
      "Atlanta\n",
      "Detroit\n",
      "Jacksonville\n",
      "Charlotte\n",
      "Miami\n",
      "Pittsburgh\n",
      "Toronto\n",
      "Philadelphia\n",
      "New York\n",
      "Montreal\n",
      "Boston\n",
      "Beersheba\n",
      "Tel Aviv District\n",
      "Eilat\n",
      "Haifa\n",
      "Nahariyya\n",
      "Jerusalem\n"
     ]
    }
   ],
   "source": [
    "for row in df_c['City']:\n",
    "    print(row)\n",
    "    df_city = pd.read_csv('../../Data/Processed/'+ row + '.csv')\n",
    "    \n",
    "    #remove rows where all attributes are null\n",
    "    df_city=df_city.dropna(subset=['humidity', 'pressure','temperature','description','wind_speed', 'wind_direction'], how='all')\n",
    "#     print ('\\nMissing values per column:')\n",
    "#     print (df_city.apply(num_missing,axis=0))\n",
    "\n",
    "    #Backfill missing data\n",
    "    df_city=df_city.bfill(limit=8)\n",
    "#     print (\"\\nMissing values per column:\")\n",
    "#     print (df_city.apply(num_missing,axis=0))\n",
    "\n",
    "    #Forwardfill missing data\n",
    "    df_city=df_city.ffill(limit=8)\n",
    "#     print (\"\\nMissing values per column:\")\n",
    "#     print (df_city.apply(num_missing,axis=0))\n",
    "    \n",
    "    #convert temperature to celsius\n",
    "    df_city['temperature']=df_city['temperature']-273.15\n",
    "    df_city.rename(columns={'temperature': 'temp_celsius'}, inplace=True)\n",
    "    \n",
    "    #sort by start date\n",
    "    df_city = df_city.sort_values(by = ['datetime'])\n",
    "    \n",
    "    df_city.to_csv('../../Data/Processed/' + row + '.csv',index=False)\n",
    "    "
   ]
  },
  {
   "cell_type": "code",
   "execution_count": null,
   "metadata": {},
   "outputs": [],
   "source": []
  }
 ],
 "metadata": {
  "kernelspec": {
   "display_name": "Python 3",
   "language": "python",
   "name": "python3"
  },
  "language_info": {
   "codemirror_mode": {
    "name": "ipython",
    "version": 3
   },
   "file_extension": ".py",
   "mimetype": "text/x-python",
   "name": "python",
   "nbconvert_exporter": "python",
   "pygments_lexer": "ipython3",
   "version": "3.6.4"
  }
 },
 "nbformat": 4,
 "nbformat_minor": 2
}
